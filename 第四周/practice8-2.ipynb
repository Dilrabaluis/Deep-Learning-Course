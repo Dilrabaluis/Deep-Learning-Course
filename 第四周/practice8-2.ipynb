{
 "cells": [
  {
   "cell_type": "code",
   "execution_count": 6,
   "metadata": {},
   "outputs": [
    {
     "name": "stdout",
     "output_type": "stream",
     "text": [
      "tf.Tensor(\n",
      "[1.0044484  0.95819616 0.8357954  0.9972511  0.85277987 0.96008515\n",
      " 0.9667457  0.8450895  1.0126851  0.9145013 ], shape=(10,), dtype=float32)\n",
      "tf.Tensor(\n",
      "[-7.1416197 -2.4772217  9.8665285 -6.4157896  8.153699  -2.6677184\n",
      " -3.3394103  8.929248  -7.9722595  1.9292724], shape=(10,), dtype=float32)\n"
     ]
    }
   ],
   "source": [
    "import tensorflow as tf\n",
    "x=tf.constant([64.3, 99.6, 145.45, 63.75, 135.46, 92.85, 86.97, 144.76, 59.3, 116.03])\n",
    "y=tf.constant([ 62.55, 82.42, 132.62, 73.31, 131.05, 86.57, 85.49, 127.44, 55.25, 104.84])\n",
    "xsum=tf.reduce_sum(x)\n",
    "ysum=tf.reduce_sum(y)\n",
    "xymuti=x*y\n",
    "topx=10*xymuti-xsum*ysum\n",
    "bottom=tf.reduce_sum(tf.square(x))-tf.square(tf.reduce_sum(x))\n",
    "w=topx/bottom\n",
    "print(w)\n",
    "\n",
    "b=(tf.reduce_sum(y)-w*tf.reduce_sum(x))/10\n",
    "print(b)"
   ]
  },
  {
   "cell_type": "code",
   "execution_count": null,
   "metadata": {},
   "outputs": [],
   "source": []
  }
 ],
 "metadata": {
  "kernelspec": {
   "display_name": "Python 3",
   "language": "python",
   "name": "python3"
  },
  "language_info": {
   "codemirror_mode": {
    "name": "ipython",
    "version": 3
   },
   "file_extension": ".py",
   "mimetype": "text/x-python",
   "name": "python",
   "nbconvert_exporter": "python",
   "pygments_lexer": "ipython3",
   "version": "3.7.6"
  }
 },
 "nbformat": 4,
 "nbformat_minor": 4
}
