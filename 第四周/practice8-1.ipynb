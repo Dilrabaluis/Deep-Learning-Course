{
 "cells": [
  {
   "cell_type": "code",
   "execution_count": 5,
   "metadata": {},
   "outputs": [
    {
     "name": "stdout",
     "output_type": "stream",
     "text": [
      "w:\n",
      "tf.Tensor(0.8321514, shape=(), dtype=float32)\n",
      "b:\n",
      "tf.Tensor(10.234016, shape=(), dtype=float32)\n"
     ]
    }
   ],
   "source": [
    "import tensorflow as tf\n",
    "x=tf.constant([64.3, 99.6, 145.45, 63.75, 135.46, 92.85, 86.97, 144.76, 59.3, 116.03])\n",
    "y=tf.constant([62.55, 82.42, 132.62, 73.31, 131.05, 86.57, 85.49, 127.44, 55.25, 104.84])\n",
    "xavg=tf.reduce_mean(x)\n",
    "yavg=tf.reduce_mean(y)\n",
    "def getResult(x,y):\n",
    "    top=0\n",
    "    bottom=0\n",
    "    for i in range(10):\n",
    "        top+=(x[i]-xavg)*(y[i]-yavg)\n",
    "        bottom+=tf.square(x[i]-xavg)\n",
    "    return top/bottom\n",
    "b=yavg-getResult(x,y)*xavg\n",
    "w=getResult(x,y)\n",
    "\n",
    "print(\"w:\")\n",
    "print(w)\n",
    "print(\"b:\")\n",
    "print(b)\n"
   ]
  },
  {
   "cell_type": "code",
   "execution_count": null,
   "metadata": {},
   "outputs": [],
   "source": []
  }
 ],
 "metadata": {
  "kernelspec": {
   "display_name": "Python 3",
   "language": "python",
   "name": "python3"
  },
  "language_info": {
   "codemirror_mode": {
    "name": "ipython",
    "version": 3
   },
   "file_extension": ".py",
   "mimetype": "text/x-python",
   "name": "python",
   "nbconvert_exporter": "python",
   "pygments_lexer": "ipython3",
   "version": "3.7.6"
  }
 },
 "nbformat": 4,
 "nbformat_minor": 2
}
