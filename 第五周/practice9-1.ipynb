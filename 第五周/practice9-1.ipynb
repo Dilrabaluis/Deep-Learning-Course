{
 "cells": [
  {
   "cell_type": "code",
   "execution_count": 5,
   "metadata": {},
   "outputs": [
    {
     "name": "stdout",
     "output_type": "stream",
     "text": [
      "[[11.96729093]\n",
      " [ 0.53488599]\n",
      " [14.33150378]]\n",
      "请输入房屋面积和房间数，预测房屋销售的价格：\n",
      "商品房间面积：140\n",
      "房间数：3\n",
      "[129.85]\n"
     ]
    }
   ],
   "source": [
    "import tensorflow as tf\n",
    "import numpy as np\n",
    "x1=np.array([137.97,104.50,100.00,124.32,79.20,99.00,124.00,114.00,106.69,138.05,53.75,46.91,68.00,63.02,81.26,86.21])\n",
    "x2=([3,2,2,3,1,2,3,2,2,3,1,1,1,1,2,2])\n",
    "y=([145.00,110.00,93.00,116.00,65.32,104.00,118.00,91.00,62.00,133.00,51.00,45.00,78.50,69.65,75.69,95.30])\n",
    "x0=np.ones(len(x1))\n",
    "X=np.stack((x0,x1,x2),axis=1)\n",
    "Y=np.array(y).reshape(-1,1)\n",
    "Xt=np.transpose(X)\n",
    "XtX_1=np.linalg.inv(np.matmul(Xt,X))\n",
    "XtX_1_Xt=np.matmul(XtX_1,Xt)\n",
    "W=np.matmul(XtX_1_Xt,Y)\n",
    "print(W)\n",
    "\n",
    "print(\"请输入房屋面积和房间数，预测房屋销售的价格：\")\n",
    "x1_test=float(input(\"商品房间面积：\"))\n",
    "x2_test=int(input(\"房间数：\"))\n",
    "y_pred=W[1]*x1_test+W[2]*x2_test+W[0]\n",
    "print(np.round(y_pred,2))"
   ]
  },
  {
   "cell_type": "code",
   "execution_count": null,
   "metadata": {},
   "outputs": [],
   "source": []
  }
 ],
 "metadata": {
  "kernelspec": {
   "display_name": "Python 3",
   "language": "python",
   "name": "python3"
  },
  "language_info": {
   "codemirror_mode": {
    "name": "ipython",
    "version": 3
   },
   "file_extension": ".py",
   "mimetype": "text/x-python",
   "name": "python",
   "nbconvert_exporter": "python",
   "pygments_lexer": "ipython3",
   "version": "3.7.6"
  }
 },
 "nbformat": 4,
 "nbformat_minor": 2
}
